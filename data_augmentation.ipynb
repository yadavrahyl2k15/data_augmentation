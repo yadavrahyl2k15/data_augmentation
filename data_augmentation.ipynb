{
  "nbformat": 4,
  "nbformat_minor": 0,
  "metadata": {
    "colab": {
      "name": "data_augmentation.ipynb",
      "provenance": [],
      "authorship_tag": "ABX9TyPMI53WIHKwRuYI+HFTJlk4",
      "include_colab_link": true
    },
    "kernelspec": {
      "display_name": "Python 3",
      "name": "python3"
    }
  },
  "cells": [
    {
      "cell_type": "markdown",
      "metadata": {
        "id": "view-in-github",
        "colab_type": "text"
      },
      "source": [
        "<a href=\"https://colab.research.google.com/github/yadavrahyl2k15/data_augmentation/blob/main/data_augmentation.ipynb\" target=\"_parent\"><img src=\"https://colab.research.google.com/assets/colab-badge.svg\" alt=\"Open In Colab\"/></a>"
      ]
    },
    {
      "cell_type": "code",
      "metadata": {
        "id": "7FicD4VrraQo"
      },
      "source": [
        "import keras"
      ],
      "execution_count": null,
      "outputs": []
    },
    {
      "cell_type": "code",
      "metadata": {
        "id": "2z1d0OCxrcwn"
      },
      "source": [
        "from keras.preprocessing.image import ImageDataGenerator,array_to_img,img_to_array,load_img"
      ],
      "execution_count": null,
      "outputs": []
    },
    {
      "cell_type": "code",
      "metadata": {
        "id": "htbWx83Ys6Mu"
      },
      "source": [
        "data=ImageDataGenerator(\n",
        "                        rotation_range=60,\n",
        "                        width_shift_range=0.3,\n",
        "                        height_shift_range=0.3,\n",
        "                        shear_range=0.3,\n",
        "                        zoom_range=0.3,\n",
        "                        horizontal_flip=True,\n",
        "                        fill_mode='nearest')"
      ],
      "execution_count": null,
      "outputs": []
    },
    {
      "cell_type": "code",
      "metadata": {
        "id": "v5HO7cL4tJAa"
      },
      "source": [
        "img=load_img(\"/content/IMG_2674.JPG\")"
      ],
      "execution_count": null,
      "outputs": []
    },
    {
      "cell_type": "code",
      "metadata": {
        "id": "sd00-tkstltp"
      },
      "source": [
        "x=img_to_array(img)"
      ],
      "execution_count": null,
      "outputs": []
    },
    {
      "cell_type": "code",
      "metadata": {
        "id": "hbcc0d79toG3"
      },
      "source": [
        "x=x.reshape((1,)+x.shape)"
      ],
      "execution_count": null,
      "outputs": []
    },
    {
      "cell_type": "code",
      "metadata": {
        "id": "sBPf4UzEtqnO"
      },
      "source": [
        "i=0\n",
        "for batch in data.flow(x,batch_size=1,save_to_dir='bin',save_prefix='/content/sample_data/me_previw',save_format='JPG'):\n",
        "\n",
        "  i+=1\n",
        "  if i>20:\n",
        "    break"
      ],
      "execution_count": null,
      "outputs": []
    },
    {
      "cell_type": "code",
      "metadata": {
        "id": "f257GTbwjOMZ"
      },
      "source": [
        ""
      ],
      "execution_count": null,
      "outputs": []
    }
  ]
}